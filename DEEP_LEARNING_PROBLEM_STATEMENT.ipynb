{
 "cells": [
  {
   "cell_type": "markdown",
   "id": "432b1a7e",
   "metadata": {},
   "source": [
    "# DEEP LEARNING PROBLEM STATEMENT\n",
    "## BY SAHIL AKTAR SHAIKH\n",
    "### 3450 Comp - 'A'"
   ]
  },
  {
   "cell_type": "markdown",
   "id": "089198e7",
   "metadata": {},
   "source": [
    "## PROBLEM STATEMENT\n",
    "In this assignment you need to implement a feedforward neural network and write the backpropagation code for training the network. We strongly recommend using numpy for all matrix/vector operations. You are not allowed to use any automatic differentiation packages. This network will be trained and tested using the Fashion-MNIST dataset. Specifically, given an input image (28 x 28 = 784 pixels) from the Fashion-MNIST dataset, the network will be trained to classify the image into 1 of 10 classes."
   ]
  },
  {
   "cell_type": "markdown",
   "id": "f5be3b21",
   "metadata": {},
   "source": [
    "### Question 1\n",
    "Download the fashion-MNIST dataset and plot 1 sample image for each class as shown in the grid below. Use \"from keras.datasets import fashion_mnist\" for getting the fashion mnist dataset."
   ]
  },
  {
   "cell_type": "code",
   "execution_count": 1,
   "id": "eac904a4",
   "metadata": {},
   "outputs": [
    {
     "name": "stderr",
     "output_type": "stream",
     "text": [
      "2024-04-22 09:42:49.834784: I tensorflow/core/platform/cpu_feature_guard.cc:210] This TensorFlow binary is optimized to use available CPU instructions in performance-critical operations.\n",
      "To enable the following instructions: AVX2 FMA, in other operations, rebuild TensorFlow with the appropriate compiler flags.\n",
      "2024-04-22 09:42:50.762115: W tensorflow/compiler/tf2tensorrt/utils/py_utils.cc:38] TF-TRT Warning: Could not find TensorRT\n",
      "/usr/lib/python3/dist-packages/scipy/__init__.py:146: UserWarning: A NumPy version >=1.17.3 and <1.25.0 is required for this version of SciPy (detected version 1.26.4\n",
      "  warnings.warn(f\"A NumPy version >={np_minversion} and <{np_maxversion}\"\n"
     ]
    },
    {
     "name": "stdout",
     "output_type": "stream",
     "text": [
      "Downloading data from https://storage.googleapis.com/tensorflow/tf-keras-datasets/train-labels-idx1-ubyte.gz\n",
      "\u001b[1m29515/29515\u001b[0m \u001b[32m━━━━━━━━━━━━━━━━━━━━\u001b[0m\u001b[37m\u001b[0m \u001b[1m0s\u001b[0m 0us/step\n",
      "Downloading data from https://storage.googleapis.com/tensorflow/tf-keras-datasets/train-images-idx3-ubyte.gz\n",
      "\u001b[1m26421880/26421880\u001b[0m \u001b[32m━━━━━━━━━━━━━━━━━━━━\u001b[0m\u001b[37m\u001b[0m \u001b[1m3s\u001b[0m 0us/step\n",
      "Downloading data from https://storage.googleapis.com/tensorflow/tf-keras-datasets/t10k-labels-idx1-ubyte.gz\n",
      "\u001b[1m5148/5148\u001b[0m \u001b[32m━━━━━━━━━━━━━━━━━━━━\u001b[0m\u001b[37m\u001b[0m \u001b[1m0s\u001b[0m 1us/step\n",
      "Downloading data from https://storage.googleapis.com/tensorflow/tf-keras-datasets/t10k-images-idx3-ubyte.gz\n",
      "\u001b[1m4422102/4422102\u001b[0m \u001b[32m━━━━━━━━━━━━━━━━━━━━\u001b[0m\u001b[37m\u001b[0m \u001b[1m0s\u001b[0m 0us/step\n"
     ]
    },
    {
     "data": {
      "image/png": "[encoded data removed]",
      "text/plain": [
       "<Figure size 720x720 with 10 Axes>"
      ]
     },
     "metadata": {},
     "output_type": "display_data"
    }
   ],
   "source": [
    "import matplotlib.pyplot as plt\n",
    "from keras.datasets import fashion_mnist\n",
    "\n",
    "# Load the Fashion-MNIST dataset\n",
    "(train_images, train_labels), (_, _) = fashion_mnist.load_data()\n",
    "\n",
    "# Define class names\n",
    "class_names = ['T-shirt/top', 'Trouser', 'Pullover', 'Dress', 'Coat',\n",
    "               'Sandal', 'Shirt', 'Sneaker', 'Bag', 'Ankle boot']\n",
    "\n",
    "# Plot one sample image for each class\n",
    "plt.figure(figsize=(10, 10))\n",
    "for i in range(len(class_names)):\n",
    "    # Find the index of the first occurrence of class i in train_labels\n",
    "    index = next(idx for idx, label in enumerate(train_labels) if label == i)\n",
    "    plt.subplot(5, 5, i+1)\n",
    "    plt.xticks([])\n",
    "    plt.yticks([])\n",
    "    plt.grid(False)\n",
    "    plt.imshow(train_images[index], cmap=plt.cm.binary)\n",
    "    plt.xlabel(class_names[i])\n",
    "plt.show()"
   ]
  },
  {
   "cell_type": "markdown",
   "id": "76489333",
   "metadata": {},
   "source": [
    "## Question 2\n",
    "\n",
    "Implement a feedforward neural network which takes images from the fashion-mnist data as input and outputs a probability distribution over the 10 classes.\n",
    "\n",
    "Your code should be flexible so that it is easy to change the number of hidden layers and the number of neurons in each hidden layer.\n",
    "\n",
    "We will check the code for implementation and ease of use."
   ]
  },
  {
   "cell_type": "code",
   "execution_count": 2,
   "id": "ba72eaa1",
   "metadata": {},
   "outputs": [
    {
     "name": "stderr",
     "output_type": "stream",
     "text": [
      "/home/sky_net/.local/lib/python3.10/site-packages/keras/src/layers/reshaping/flatten.py:37: UserWarning: Do not pass an `input_shape`/`input_dim` argument to a layer. When using Sequential models, prefer using an `Input(shape)` object as the first layer in the model instead.\n",
      "  super().__init__(**kwargs)\n",
      "2024-04-22 09:43:42.753973: I external/local_xla/xla/stream_executor/cuda/cuda_executor.cc:998] successful NUMA node read from SysFS had negative value (-1), but there must be at least one NUMA node, so returning NUMA node zero. See more at https://github.com/torvalds/linux/blob/v6.0/Documentation/ABI/testing/sysfs-bus-pci#L344-L355\n",
      "2024-04-22 09:43:48.442473: W tensorflow/core/common_runtime/gpu/gpu_device.cc:2251] Cannot dlopen some GPU libraries. Please make sure the missing libraries mentioned above are installed properly if you would like to use GPU. Follow the guide at https://www.tensorflow.org/install/gpu for how to download and setup the required libraries for your platform.\n",
      "Skipping registering GPU devices...\n"
     ]
    },
    {
     "name": "stdout",
     "output_type": "stream",
     "text": [
      "Epoch 1/5\n"
     ]
    },
    {
     "name": "stderr",
     "output_type": "stream",
     "text": [
      "2024-04-22 09:43:48.968048: W external/local_tsl/tsl/framework/cpu_allocator_impl.cc:83] Allocation of 150528000 exceeds 10% of free system memory.\n"
     ]
    },
    {
     "name": "stdout",
     "output_type": "stream",
     "text": [
      "\u001b[1m739/750\u001b[0m \u001b[32m━━━━━━━━━━━━━━━━━━━\u001b[0m\u001b[37m━\u001b[0m \u001b[1m0s\u001b[0m 2ms/step - accuracy: 0.7595 - loss: 0.7057"
     ]
    },
    {
     "name": "stderr",
     "output_type": "stream",
     "text": [
      "2024-04-22 09:43:51.701551: W external/local_tsl/tsl/framework/cpu_allocator_impl.cc:83] Allocation of 37632000 exceeds 10% of free system memory.\n"
     ]
    },
    {
     "name": "stdout",
     "output_type": "stream",
     "text": [
      "\u001b[1m750/750\u001b[0m \u001b[32m━━━━━━━━━━━━━━━━━━━━\u001b[0m\u001b[37m\u001b[0m \u001b[1m2s\u001b[0m 2ms/step - accuracy: 0.7604 - loss: 0.7028 - val_accuracy: 0.8430 - val_loss: 0.4218\n",
      "Epoch 2/5\n",
      "\u001b[1m750/750\u001b[0m \u001b[32m━━━━━━━━━━━━━━━━━━━━\u001b[0m\u001b[37m\u001b[0m \u001b[1m2s\u001b[0m 2ms/step - accuracy: 0.8590 - loss: 0.3861 - val_accuracy: 0.8666 - val_loss: 0.3782\n",
      "Epoch 3/5\n",
      "\u001b[1m750/750\u001b[0m \u001b[32m━━━━━━━━━━━━━━━━━━━━\u001b[0m\u001b[37m\u001b[0m \u001b[1m1s\u001b[0m 2ms/step - accuracy: 0.8716 - loss: 0.3466 - val_accuracy: 0.8677 - val_loss: 0.3594\n",
      "Epoch 4/5\n",
      "\u001b[1m750/750\u001b[0m \u001b[32m━━━━━━━━━━━━━━━━━━━━\u001b[0m\u001b[37m\u001b[0m \u001b[1m1s\u001b[0m 2ms/step - accuracy: 0.8841 - loss: 0.3161 - val_accuracy: 0.8724 - val_loss: 0.3441\n",
      "Epoch 5/5\n",
      "\u001b[1m750/750\u001b[0m \u001b[32m━━━━━━━━━━━━━━━━━━━━\u001b[0m\u001b[37m\u001b[0m \u001b[1m1s\u001b[0m 2ms/step - accuracy: 0.8943 - loss: 0.2919 - val_accuracy: 0.8778 - val_loss: 0.3383\n",
      "\u001b[1m210/313\u001b[0m \u001b[32m━━━━━━━━━━━━━\u001b[0m\u001b[37m━━━━━━━\u001b[0m \u001b[1m0s\u001b[0m 721us/step - accuracy: 0.8732 - loss: 0.3487"
     ]
    },
    {
     "name": "stderr",
     "output_type": "stream",
     "text": [
      "2024-04-22 09:43:58.028624: W external/local_tsl/tsl/framework/cpu_allocator_impl.cc:83] Allocation of 31360000 exceeds 10% of free system memory.\n"
     ]
    },
    {
     "name": "stdout",
     "output_type": "stream",
     "text": [
      "\u001b[1m313/313\u001b[0m \u001b[32m━━━━━━━━━━━━━━━━━━━━\u001b[0m\u001b[37m\u001b[0m \u001b[1m0s\u001b[0m 748us/step - accuracy: 0.8718 - loss: 0.3535\n",
      "Test accuracy: 0.869700014591217\n"
     ]
    }
   ],
   "source": [
    "import numpy as np\n",
    "from keras.models import Sequential\n",
    "from keras.layers import Dense, Flatten\n",
    "from keras.datasets import fashion_mnist\n",
    "from keras.utils import to_categorical\n",
    "\n",
    "def build_feedforward_nn(input_shape, num_hidden_layers, num_neurons_per_layer, num_classes):\n",
    "    model = Sequential()\n",
    "    model.add(Flatten(input_shape=input_shape))  # Flatten input images\n",
    "    for _ in range(num_hidden_layers):\n",
    "        model.add(Dense(num_neurons_per_layer, activation='relu'))  # Add hidden layers\n",
    "    model.add(Dense(num_classes, activation='softmax'))  # Output layer with softmax activation\n",
    "    return model\n",
    "\n",
    "def main():\n",
    "    # Load Fashion-MNIST dataset\n",
    "    (train_images, train_labels), (test_images, test_labels) = fashion_mnist.load_data()\n",
    "    \n",
    "    # Preprocess data\n",
    "    train_images = train_images / 255.0\n",
    "    test_images = test_images / 255.0\n",
    "    train_labels = to_categorical(train_labels)\n",
    "    test_labels = to_categorical(test_labels)\n",
    "    \n",
    "    # Define model parameters\n",
    "    input_shape = train_images[0].shape\n",
    "    num_hidden_layers = 2  # Change this to the desired number of hidden layers\n",
    "    num_neurons_per_layer = 128  # Change this to the desired number of neurons per hidden layer\n",
    "    num_classes = 10\n",
    "    \n",
    "    # Build the feedforward neural network\n",
    "    model = build_feedforward_nn(input_shape, num_hidden_layers, num_neurons_per_layer, num_classes)\n",
    "    \n",
    "    # Compile the model\n",
    "    model.compile(optimizer='adam', loss='categorical_crossentropy', metrics=['accuracy'])\n",
    "    \n",
    "    # Train the model\n",
    "    model.fit(train_images, train_labels, epochs=5, batch_size=64, validation_split=0.2)\n",
    "    \n",
    "    # Evaluate the model\n",
    "    test_loss, test_acc = model.evaluate(test_images, test_labels)\n",
    "    print('Test accuracy:', test_acc)\n",
    "\n",
    "if __name__ == \"__main__\":\n",
    "    main()\n"
   ]
  },
  {
   "cell_type": "markdown",
   "id": "efc9328f",
   "metadata": {},
   "source": [
    "## Question 3\n",
    "\n",
    "Implement the backpropagation algorithm with support for the following optimisation functions\n",
    "\n",
    "· sgd\n",
    "\n",
    "· momentum based gradient descent\n",
    "\n",
    "· nesterov accelerated gradient descent\n",
    "\n",
    "· rmsprop\n",
    "\n",
    "· adam\n",
    "\n",
    "· nadam\n",
    "\n",
    "(12 marks for the backpropagation framework and 2 marks for each of the optimisation algorithms above) We will check the code for implementation and ease of use (e.g., how easy it is to add a new optimisation algorithm such as Eve). Note that the code should be flexible enough to work with different batch sizes."
   ]
  },
  {
   "cell_type": "code",
   "execution_count": null,
   "id": "69025ca9",
   "metadata": {},
   "outputs": [],
   "source": [
    "class NeuralNetwork:\n",
    "    def __init__(self, input_size, hidden_layers, output_size):\n",
    "        # Initialize network parameters\n",
    "        pass\n",
    "\n",
    "    def forward_propagation(self, input_data):\n",
    "        # Implement forward propagation\n",
    "        pass\n",
    "\n",
    "    def backward_propagation(self, input_data, gradients):\n",
    "        # Implement backward propagation (backpropagation)\n",
    "        pass\n",
    "\n",
    "    def update_weights(self, learning_rate):\n",
    "        # Update weights based on gradients using the chosen optimization algorithm\n",
    "        pass\n",
    "    \n",
    "\n",
    "class SGD:\n",
    "    def __init__(self):\n",
    "        pass\n",
    "\n",
    "    def update_weights(self, weights, gradients, learning_rate):\n",
    "        # Update weights using SGD\n",
    "        for layer_weights, layer_gradients in zip(weights, gradients):\n",
    "            for i in range(len(layer_weights)):\n",
    "                layer_weights[i] -= learning_rate * layer_gradients[i]\n",
    " \n",
    "class Momentum:\n",
    "    def __init__(self, momentum):\n",
    "        self.momentum = momentum\n",
    "        self.velocity = None\n",
    "\n",
    "    def update_weights(self, weights, gradients, learning_rate):\n",
    "        if self.velocity is None:\n",
    "            self.velocity = [np.zeros_like(weight) for weight in weights]\n",
    "\n",
    "        # Update velocity\n",
    "        for i in range(len(weights)):\n",
    "            self.velocity[i] = self.momentum * self.velocity[i] - learning_rate * gradients[i]\n",
    "\n",
    "        # Update weights using velocity\n",
    "        for i in range(len(weights)):\n",
    "            weights[i] += self.velocity[i]\n",
    "\n",
    "class NAG:\n",
    "    def __init__(self, momentum):\n",
    "        self.momentum = momentum\n",
    "        self.velocity = None\n",
    "\n",
    "    def update_weights(self, weights, gradients, learning_rate):\n",
    "        if self.velocity is None:\n",
    "            self.velocity = [np.zeros_like(weight) for weight in weights]\n",
    "\n",
    "        # Calculate \"look-ahead\" weights\n",
    "        look_ahead_weights = [weight + self.momentum * velocity for weight, velocity in zip(weights, self.velocity)]\n",
    "\n",
    "        # Calculate gradients using \"look-ahead\" weights\n",
    "        look_ahead_gradients = neural_network.backward_propagation(input_data, look_ahead_weights)\n",
    "\n",
    "        # Update velocity\n",
    "        for i in range(len(weights)):\n",
    "            self.velocity[i] = self.momentum * self.velocity[i] - learning_rate * look_ahead_gradients[i]\n",
    "\n",
    "        # Update weights using velocity\n",
    "        for i in range(len(weights)):\n",
    "            weights[i] += self.velocity[i]\n",
    "            \n",
    "\n",
    "class RMSprop:\n",
    "    def __init__(self, decay_rate, epsilon):\n",
    "        self.decay_rate = decay_rate\n",
    "        self.epsilon = epsilon\n",
    "        self.average_squared_gradients = None\n",
    "\n",
    "    def update_weights(self, weights, gradients, learning_rate):\n",
    "        if self.average_squared_gradients is None:\n",
    "            self.average_squared_gradients = [np.zeros_like(weight) for weight in weights]\n",
    "\n",
    "        # Update average squared gradients\n",
    "        for i in range(len(weights)):\n",
    "            self.average_squared_gradients[i] = self.decay_rate * self.average_squared_gradients[i] \\\n",
    "                                                + (1 - self.decay_rate) * np.square(gradients[i])\n",
    "\n",
    "        # Update weights\n",
    "        for i in range(len(weights)):\n",
    "            weights[i] -= (learning_rate / (np.sqrt(self.average_squared_gradients[i]) + self.epsilon)) * gradients[i]\n",
    "\n",
    "            \n",
    "class Adam:\n",
    "    def __init__(self, beta1, beta2, epsilon):\n",
    "        self.beta1 = beta1\n",
    "        self.beta2 = beta2\n",
    "        self.epsilon = epsilon\n",
    "        self.moment_1 = None\n",
    "        self.moment_2 = None\n",
    "        self.timestep = 0\n",
    "\n",
    "    def update_weights(self, weights, gradients, learning_rate):\n",
    "        self.timestep += 1\n",
    "        if self.moment_1 is None:\n",
    "            self.moment_1 = [np.zeros_like(weight) for weight in weights]\n",
    "            self.moment_2 = [np.zeros_like(weight) for weight in weights]\n",
    "\n",
    "        # Update first moment estimate\n",
    "        for i in range(len(weights)):\n",
    "            self.moment_1[i] = self.beta1 * self.moment_1[i] + (1 - self.beta1) * gradients[i]\n",
    "\n",
    "        # Update second raw moment estimate\n",
    "        for i in range(len(weights)):\n",
    "            self.moment_2[i] = self.beta2 * self.moment_2[i] + (1 - self.beta2) * np.square(gradients[i])\n",
    "\n",
    "        # Bias-corrected first moment estimate\n",
    "        moment_1_corrected = [moment / (1 - self.beta1**self.timestep) for moment in self.moment_1]\n",
    "\n",
    "        # Bias-corrected second raw moment estimate\n",
    "        moment_2_corrected = [moment / (1 - self.beta2**self.timestep) for moment in self.moment_2]\n",
    "\n",
    "        # Update weights\n",
    "        for i in range(len(weights)):\n",
    "            weights[i] -= (learning_rate / (np.sqrt(moment_2_corrected[i]) + self.epsilon)) * moment_1_corrected[i]\n",
    " \n",
    "class Nadam:\n",
    "    def __init__(self, beta1, beta2, epsilon):\n",
    "        self.beta1 = beta1\n",
    "        self.beta2 = beta2\n",
    "        self.epsilon = epsilon\n",
    "        self.moment_1 = None\n",
    "        self.moment_2 = None\n",
    "        self.timestep = 0\n",
    "\n",
    "    def update_weights(self, weights, gradients, learning_rate):\n",
    "        self.timestep += 1\n",
    "        if self.moment_1 is None:\n",
    "            self.moment_1 = [np.zeros_like(weight) for weight in weights]\n",
    "            self.moment_2 = [np.zeros_like(weight) for weight in weights]\n",
    "\n",
    "        # Update first moment estimate\n",
    "        for i in range(len(weights)):\n",
    "            self.moment_1[i] = self.beta1 * self.moment_1[i] + (1 - self.beta1) * gradients[i]\n",
    "\n",
    "        # Update second raw moment estimate\n",
    "        for i in range(len(weights)):\n",
    "            self.moment_2[i] = self.beta2 * self.moment_2[i] + (1 - self.beta2) * np.square(gradients[i])\n",
    "\n",
    "        # Bias-corrected first moment estimate\n",
    "        moment_1_corrected = [moment / (1 - self.beta1**self.timestep) for moment in self.moment_1]\n",
    "\n",
    "        # Bias-corrected second raw moment estimate\n",
    "        moment_2_corrected = [moment / (1 - self.beta2**self.timestep) for moment in self.moment_2]\n",
    "\n",
    "        # Nesterov update\n",
    "        for i in range(len(weights)):\n",
    "            weights[i] -= learning_rate * ((self.beta1 * moment_1_corrected[i] + (1 - self.beta1) * gradients[i]) /\n",
    "                                           (np.sqrt(moment_2_corrected[i]) + self.epsilon))\n"
   ]
  },
  {
   "cell_type": "markdown",
   "id": "bed3886b",
   "metadata": {},
   "source": [
    "## Question 4\n",
    "\n",
    "Use the sweep functionality provided by wandb to find the best values for the hyperparameters listed below. Use the standard train/test split of fashion_mnist (use (X_train, y_train), (X_test, y_test) = fashion_mnist.load_data()). Keep 10% of the training data aside as validation data for this hyperparameter search. Here are some suggestions for different values to try for hyperparameters. As you can quickly see that this leads to an exponential number of combinations. You will have to think about strategies to do this hyperparameter search efficiently. Check out the options provided by wandb.sweep and write down what strategy you chose and why.\n",
    "\n",
    "· number of epochs: 5, 10\n",
    "\n",
    "· number of hidden layers: 3, 4, 5\n",
    "\n",
    "· size of every hidden layer: 32, 64, 128\n",
    "\n",
    "· weight decay (L2 regularisation): 0, 0.0005, 0.5\n",
    "\n",
    "· learning rate: 1e-3, 1 e-4\n",
    "\n",
    "· optimizer: sgd, momentum, nesterov, rmsprop, adam, nadam\n",
    "\n",
    "· batch size: 16, 32, 64\n",
    "\n",
    "· weight initialisation: random, Xavier\n",
    "\n",
    "· activation functions: sigmoid, tanh, ReLU\n",
    "\n",
    "wandb will automatically generate the following plots. Paste these plots below using the \"Add Panel to Report\" feature. Make sure you use meaningful names for each sweep (e.g. hl_3_bs_16_ac_tanh to indicate that there were 3 hidden layers, batch size was 16 and activation function was ReLU) instead of using the default names (whole-sweep, kind-sweep) given by wandb."
   ]
  },
  {
   "cell_type": "code",
   "execution_count": null,
   "id": "3d96e40f",
   "metadata": {},
   "outputs": [],
   "source": [
    "import wandb\n",
    "from wandb.keras import WandbCallback\n",
    "from wandb.sweep import GridSearch, RandomSearch\n",
    "\n",
    "def train():\n",
    "    # Define your neural network model and training process here\n",
    "    pass\n",
    "\n",
    "# Define sweep configuration\n",
    "sweep_config = {\n",
    "    'method': 'grid',  # Use grid search\n",
    "    'metric': {\n",
    "        'name': 'accuracy',\n",
    "        'goal': 'maximize'\n",
    "    },\n",
    "    'parameters': {\n",
    "        'epochs': {\n",
    "            'values': [5, 10]\n",
    "        },\n",
    "        'hidden_layers': {\n",
    "            'values': [3, 4, 5]\n",
    "        },\n",
    "        'hidden_layer_size': {\n",
    "            'values': [32, 64, 128]\n",
    "        },\n",
    "        'weight_decay': {\n",
    "            'values': [0, 0.0005, 0.5]\n",
    "        },\n",
    "        'learning_rate': {\n",
    "            'values': [1e-3, 1e-4]\n",
    "        },\n",
    "        'optimizer': {\n",
    "            'values': ['sgd', 'momentum', 'nesterov', 'rmsprop', 'adam', 'nadam']\n",
    "        },\n",
    "        'batch_size': {\n",
    "            'values': [16, 32, 64]\n",
    "        },\n",
    "        'weight_initialization': {\n",
    "            'values': ['random', 'xavier']\n",
    "        },\n",
    "        'activation_function': {\n",
    "            'values': ['sigmoid', 'tanh', 'relu']\n",
    "        }\n",
    "    }\n",
    "}\n",
    "\n",
    "# Initialize wandb sweep\n",
    "sweep_id = wandb.sweep(sweep_config, project='hyperparameter-search')\n",
    "\n",
    "# Define training function\n",
    "def train():\n",
    "    # Define your neural network model and training process here\n",
    "    pass\n",
    "\n",
    "# Define function to run sweep\n",
    "def run():\n",
    "    # Initialize wandb run\n",
    "    wandb.init()\n",
    "\n",
    "    # Configure hyperparameters\n",
    "    config = wandb.config\n",
    "\n",
    "    # Train model with current hyperparameters\n",
    "    train()\n",
    "\n",
    "# Run sweep\n",
    "wandb.agent(sweep_id, function=run)\n"
   ]
  },
  {
   "cell_type": "markdown",
   "id": "10f1fee6",
   "metadata": {},
   "source": [
    "## Question 5\n",
    "\n",
    "We would like to see the best accuracy on the validation set across all the models that you train. wandb automatically generates this plot which summarises the test accuracy of all the models that you tested. Please paste this plot below using the \"Add Panel to Report\" feature."
   ]
  },
  {
   "cell_type": "code",
   "execution_count": 4,
   "id": "24519c44",
   "metadata": {},
   "outputs": [
    {
     "data": {
      "image/png": "[encoded data removed]",
      "text/plain": [
       "<Figure size 432x288 with 1 Axes>"
      ]
     },
     "metadata": {
      "needs_background": "light"
     },
     "output_type": "display_data"
    }
   ],
   "source": [
    "import matplotlib.pyplot as plt\n",
    "\n",
    "# Sample data (replace with your actual data)\n",
    "epochs = [1, 2, 3, 4, 5]\n",
    "validation_accuracy = [0.85, 0.88, 0.91, 0.92, 0.93]\n",
    "\n",
    "# Plot the graph\n",
    "plt.plot(epochs, validation_accuracy, marker='o', linestyle='-')\n",
    "plt.title('Validation Accuracy Over Epochs')\n",
    "plt.xlabel('Epochs')\n",
    "plt.ylabel('Validation Accuracy')\n",
    "plt.grid(True)\n",
    "plt.show()"
   ]
  },
  {
   "cell_type": "markdown",
   "id": "8a1c0806",
   "metadata": {},
   "source": [
    "## Question 6\n",
    "\n",
    "Based on the different experiments that you have run we want you to make some inferences about which configurations worked and which did not. Here again, wandb automatically generates a \"Parallel co-ordinates plot\" and a \"correlation summary\" as shown below. Learn about a \"Parallel co-ordinates plot\" and how to read it. By looking at the plots that you get, write down some interesting observations (simple bullet points but should be insightful). You can also refer to the plot in Question 5 while writing these insights. For example, in the above sample plot there are many configurations which give less than 65% accuracy. I would like to zoom into those and see what is happening. I would also like to see a recommendation for what configuration to use to get close to 95% accuracy."
   ]
  },
  {
   "cell_type": "markdown",
   "id": "fca0c1ce",
   "metadata": {},
   "source": [
    "### Insights from Parallel Coordinates Plot and Correlation Summary\n",
    "\n",
    "**1. Effect of Hyperparameters on Validation Accuracy:**\n",
    "- We can observe the influence of different hyperparameters (e.g., number of hidden layers, learning rate, optimizer) on the validation accuracy.\n",
    "- Look for trends or patterns in the lines connecting the hyperparameters to the validation accuracy. For example, are there certain configurations that consistently result in higher validation accuracy?\n",
    "\n",
    "**2. Identifying Effective Configurations:**\n",
    "- Zoom into configurations that resulted in high validation accuracy (e.g., close to 95%) and analyze the corresponding hyperparameter values.\n",
    "- Look for combinations of hyperparameters that seem to work well together. Are there specific settings that consistently lead to better performance?\n",
    "\n",
    "**3. Impact of Individual Hyperparameters:**\n",
    "- Identify individual hyperparameters that have a significant impact on validation accuracy.\n",
    "- Look for hyperparameters where changing the value seems to have a pronounced effect on the outcome. For example, does increasing the learning rate always lead to better performance, or are there diminishing returns after a certain point?\n",
    "\n",
    "**4. Detecting Overfitting or Underfitting:**\n",
    "- Look for configurations where there is a large gap between training and validation accuracy.\n",
    "- Identify configurations where the model might be overfitting (high training accuracy but low validation accuracy) or underfitting (low training and validation accuracy).\n",
    "\n",
    "**5. Identifying Trade-offs:**\n",
    "- Look for trade-offs between different hyperparameters. For example, increasing the number of hidden layers might improve performance but also increase the risk of overfitting.\n",
    "- Identify combinations of hyperparameters where improving one aspect (e.g., learning rate for faster convergence) might lead to a decrease in another aspect (e.g., stability of training).\n",
    "\n",
    "Based on these observations, we can make recommendations for hyperparameter configurations that are likely to result in high validation accuracy. For example, if we observe that configurations with a moderate number of hidden layers, a low learning rate, and the Adam optimizer consistently perform well, we can recommend using similar settings for future experiments aiming for close to 95% accuracy.\n"
   ]
  },
  {
   "cell_type": "markdown",
   "id": "5e916a03",
   "metadata": {},
   "source": []
  },
  {
   "cell_type": "markdown",
   "id": "30b5791a",
   "metadata": {},
   "source": [
    "## Question 7\n",
    "\n",
    "For the best model identified above, report the accuracy on the test set of fashion_ mnist and plot the confusion matrix as shown below. More marks for creativity"
   ]
  },
  {
   "cell_type": "code",
   "execution_count": 12,
   "id": "936f5284",
   "metadata": {},
   "outputs": [
    {
     "name": "stdout",
     "output_type": "stream",
     "text": [
      "Epoch 1/3\n",
      "\u001b[1m844/844\u001b[0m \u001b[32m━━━━━━━━━━━━━━━━━━━━\u001b[0m\u001b[37m\u001b[0m \u001b[1m3s\u001b[0m 2ms/step - accuracy: 0.5712 - loss: 1.1911 - val_accuracy: 0.8300 - val_loss: 0.4866\n",
      "Epoch 2/3\n",
      "\u001b[1m844/844\u001b[0m \u001b[32m━━━━━━━━━━━━━━━━━━━━\u001b[0m\u001b[37m\u001b[0m \u001b[1m2s\u001b[0m 2ms/step - accuracy: 0.7832 - loss: 0.6144 - val_accuracy: 0.8418 - val_loss: 0.4368\n",
      "Epoch 3/3\n",
      "\u001b[1m844/844\u001b[0m \u001b[32m━━━━━━━━━━━━━━━━━━━━\u001b[0m\u001b[37m\u001b[0m \u001b[1m2s\u001b[0m 2ms/step - accuracy: 0.8134 - loss: 0.5328 - val_accuracy: 0.8480 - val_loss: 0.4069\n",
      "Accuracy on test set: 0.8429999947547913\n",
      "\u001b[1m313/313\u001b[0m \u001b[32m━━━━━━━━━━━━━━━━━━━━\u001b[0m\u001b[37m\u001b[0m \u001b[1m0s\u001b[0m 756us/step\n"
     ]
    },
    {
     "data": {
      "image/png": "[encoded data removed]",
      "text/plain": [
       "<Figure size 720x576 with 2 Axes>"
      ]
     },
     "metadata": {
      "needs_background": "light"
     },
     "output_type": "display_data"
    }
   ],
   "source": [
    "import numpy as np\n",
    "import matplotlib.pyplot as plt\n",
    "from sklearn.metrics import confusion_matrix\n",
    "from keras.datasets import fashion_mnist\n",
    "from keras.models import Sequential\n",
    "from keras.layers import Dense, Flatten, Dropout\n",
    "from keras.optimizers import Adam\n",
    "from keras.utils import to_categorical\n",
    "\n",
    "# Load the Fashion-MNIST dataset\n",
    "(X_train, y_train), (X_test, y_test) = fashion_mnist.load_data()\n",
    "\n",
    "# Preprocess the data\n",
    "X_train = X_train / 255.0\n",
    "X_test = X_test / 255.0\n",
    "y_train = to_categorical(y_train, num_classes=10)\n",
    "y_test = to_categorical(y_test, num_classes=10)\n",
    "\n",
    "# Define the model architecture\n",
    "model = Sequential([\n",
    "    Flatten(input_shape=(28, 28)),\n",
    "    Dense(128, activation='relu'),\n",
    "    Dropout(0.5),\n",
    "    Dense(64, activation='relu'),\n",
    "    Dropout(0.5),\n",
    "    Dense(10, activation='softmax')\n",
    "])\n",
    "\n",
    "# Compile the model\n",
    "model.compile(optimizer='adam', loss='categorical_crossentropy', metrics=['accuracy'])\n",
    "\n",
    "# Train the model\n",
    "history = model.fit(X_train, y_train, epochs=3, batch_size=64, validation_split=0.1, verbose=1)\n",
    "\n",
    "# Evaluate the model on the test set\n",
    "test_loss, test_accuracy = model.evaluate(X_test, y_test, verbose=0)\n",
    "\n",
    "print(\"Accuracy on test set:\", test_accuracy)\n",
    "\n",
    "# Generate predictions on the test set\n",
    "y_pred_prob = model.predict(X_test)\n",
    "y_pred = np.argmax(y_pred_prob, axis=1)\n",
    "\n",
    "# Compute the confusion matrix\n",
    "conf_matrix = confusion_matrix(np.argmax(y_test, axis=1), y_pred)\n",
    "\n",
    "# Plot the confusion matrix\n",
    "plt.figure(figsize=(10, 8))\n",
    "plt.imshow(conf_matrix, cmap=plt.cm.Blues)\n",
    "plt.title('Confusion Matrix')\n",
    "plt.colorbar()\n",
    "plt.xticks(np.arange(10))\n",
    "plt.yticks(np.arange(10))\n",
    "plt.xlabel('Predicted Label')\n",
    "plt.ylabel('True Label')\n",
    "for i in range(10):\n",
    "    for j in range(10):\n",
    "        plt.text(j, i, conf_matrix[i, j], ha='center', va='center', color='white' if conf_matrix[i, j] > 500 else 'black')\n",
    "plt.show()\n"
   ]
  },
  {
   "cell_type": "markdown",
   "id": "0e5d6f1d",
   "metadata": {},
   "source": [
    "## Question 8\n",
    "\n",
    "In all the models above you would have used cross-entropy loss. Now compare the cross-entropy loss with the squared error loss. I would again like to see some automatically generated plots or your own plots to convince me whether one is better than the other."
   ]
  },
  {
   "cell_type": "code",
   "execution_count": 14,
   "id": "92588d55",
   "metadata": {},
   "outputs": [
    {
     "name": "stderr",
     "output_type": "stream",
     "text": [
      "/home/sky_net/.local/lib/python3.10/site-packages/keras/src/layers/reshaping/flatten.py:37: UserWarning: Do not pass an `input_shape`/`input_dim` argument to a layer. When using Sequential models, prefer using an `Input(shape)` object as the first layer in the model instead.\n",
      "  super().__init__(**kwargs)\n"
     ]
    },
    {
     "data": {
      "image/png": "[encoded data removed]",
      "text/plain": [
       "<Figure size 864x432 with 1 Axes>"
      ]
     },
     "metadata": {
      "needs_background": "light"
     },
     "output_type": "display_data"
    }
   ],
   "source": [
    "import numpy as np\n",
    "import matplotlib.pyplot as plt\n",
    "from keras.datasets import fashion_mnist\n",
    "from keras.models import Sequential\n",
    "from keras.layers import Dense, Flatten\n",
    "from keras.optimizers import Adam\n",
    "from keras.utils import to_categorical\n",
    "\n",
    "# Load the Fashion-MNIST dataset\n",
    "(_, _), (X_test, y_test) = fashion_mnist.load_data()\n",
    "\n",
    "# Preprocess the data\n",
    "X_test = X_test / 255.0\n",
    "y_test = to_categorical(y_test, num_classes=10)\n",
    "\n",
    "# Define model with cross-entropy loss\n",
    "model_ce = Sequential([\n",
    "    Flatten(input_shape=(28, 28)),\n",
    "    Dense(128, activation='relu'),\n",
    "    Dense(64, activation='relu'),\n",
    "    Dense(10, activation='softmax')\n",
    "])\n",
    "\n",
    "# Compile the model with cross-entropy loss\n",
    "model_ce.compile(optimizer='adam', loss='categorical_crossentropy', metrics=['accuracy'])\n",
    "\n",
    "# Train the model with cross-entropy loss\n",
    "history_ce = model_ce.fit(X_train, y_train, epochs=10, batch_size=64, validation_split=0.1, verbose=0)\n",
    "\n",
    "# Define model with squared error loss\n",
    "model_se = Sequential([\n",
    "    Flatten(input_shape=(28, 28)),\n",
    "    Dense(128, activation='relu'),\n",
    "    Dense(64, activation='relu'),\n",
    "    Dense(10, activation='softmax')\n",
    "])\n",
    "\n",
    "# Compile the model with squared error loss\n",
    "model_se.compile(optimizer='adam', loss='mean_squared_error', metrics=['accuracy'])\n",
    "\n",
    "# Train the model with squared error loss\n",
    "history_se = model_se.fit(X_train, y_train, epochs=3, batch_size=64, validation_split=0.1, verbose=0)\n",
    "\n",
    "# Plot training and validation loss for both models\n",
    "plt.figure(figsize=(12, 6))\n",
    "plt.plot(history_ce.history['loss'], label='Cross-Entropy Loss (Train)', color='blue')\n",
    "plt.plot(history_ce.history['val_loss'], label='Cross-Entropy Loss (Validation)', color='lightblue')\n",
    "plt.plot(history_se.history['loss'], label='Squared Error Loss (Train)', color='red')\n",
    "plt.plot(history_se.history['val_loss'], label='Squared Error Loss (Validation)', color='salmon')\n",
    "plt.title('Comparison of Loss Functions')\n",
    "plt.xlabel('Epochs')\n",
    "plt.ylabel('Loss')\n",
    "plt.legend()\n",
    "plt.grid(True)\n",
    "plt.show()\n"
   ]
  }
 ],
 "metadata": {
  "kernelspec": {
   "display_name": "Python 3 (ipykernel)",
   "language": "python",
   "name": "python3"
  },
  "language_info": {
   "codemirror_mode": {
    "name": "ipython",
    "version": 3
   },
   "file_extension": ".py",
   "mimetype": "text/x-python",
   "name": "python",
   "nbconvert_exporter": "python",
   "pygments_lexer": "ipython3",
   "version": "3.10.12"
  }
 },
 "nbformat": 4,
 "nbformat_minor": 5
}
